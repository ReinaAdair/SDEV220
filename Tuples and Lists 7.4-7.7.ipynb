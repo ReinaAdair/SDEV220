{
 "cells": [
  {
   "cell_type": "code",
   "execution_count": 11,
   "id": "db473157",
   "metadata": {},
   "outputs": [],
   "source": [
    "things = [\"mozzarella\", \"cinderella\", \"salmonella\"]\n",
    "achievements = []"
   ]
  },
  {
   "cell_type": "code",
   "execution_count": 6,
   "id": "e4d06743",
   "metadata": {},
   "outputs": [],
   "source": [
    "for i in range(len(things)):\n",
    "    if things[i] == \"cinderella\":\n",
    "        things[i] = \"Cinderella\"\n",
    "    if things[i] == \"mozzarella\":\n",
    "        things[i] = \"MOZZARELLA\"\n",
    "    if things[i] == \"salmonella\":\n",
    "        things.pop(i)"
   ]
  },
  {
   "cell_type": "code",
   "execution_count": 7,
   "id": "c36f5253",
   "metadata": {},
   "outputs": [
    {
     "name": "stdout",
     "output_type": "stream",
     "text": [
      "['MOZZARELLA', 'Cinderella']\n"
     ]
    }
   ],
   "source": [
    "print(things)"
   ]
  },
  {
   "cell_type": "code",
   "execution_count": 12,
   "id": "fd2b43be",
   "metadata": {},
   "outputs": [
    {
     "name": "stdout",
     "output_type": "stream",
     "text": [
      "['Nobel Prize']\n"
     ]
    }
   ],
   "source": [
    "achievements.append(\"Nobel Prize\")\n",
    "print(achievements)"
   ]
  },
  {
   "cell_type": "code",
   "execution_count": null,
   "id": "9aac208f",
   "metadata": {},
   "outputs": [],
   "source": []
  }
 ],
 "metadata": {
  "kernelspec": {
   "display_name": "Python 3 (ipykernel)",
   "language": "python",
   "name": "python3"
  },
  "language_info": {
   "codemirror_mode": {
    "name": "ipython",
    "version": 3
   },
   "file_extension": ".py",
   "mimetype": "text/x-python",
   "name": "python",
   "nbconvert_exporter": "python",
   "pygments_lexer": "ipython3",
   "version": "3.10.9"
  }
 },
 "nbformat": 4,
 "nbformat_minor": 5
}
