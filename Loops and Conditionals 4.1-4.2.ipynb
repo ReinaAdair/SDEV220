{
 "cells": [
  {
   "cell_type": "code",
   "execution_count": 1,
   "id": "fbb2084f",
   "metadata": {},
   "outputs": [],
   "source": [
    "secret = 9"
   ]
  },
  {
   "cell_type": "code",
   "execution_count": 2,
   "id": "97977b00",
   "metadata": {},
   "outputs": [],
   "source": [
    "guess = 4"
   ]
  },
  {
   "cell_type": "code",
   "execution_count": 3,
   "id": "229e8893",
   "metadata": {},
   "outputs": [
    {
     "name": "stdout",
     "output_type": "stream",
     "text": [
      "too low\n"
     ]
    }
   ],
   "source": [
    "if guess < secret:\n",
    "    print(\"too low\")\n",
    "elif guess > secret:\n",
    "    print(\"too high\")\n",
    "elif guess == secret:\n",
    "    print(\"just right\")\n",
    "else:\n",
    "    print(\"something went wrong\")"
   ]
  },
  {
   "cell_type": "code",
   "execution_count": 8,
   "id": "d2360bd8",
   "metadata": {},
   "outputs": [],
   "source": [
    "foods = [\"cherry\", \"pea\", \"watermelon\", \"pumpkin\"]\n",
    "small = [\"cherry\", \"pea\"]\n",
    "green = [\"pea\", \"watermelon\"]"
   ]
  },
  {
   "cell_type": "code",
   "execution_count": 9,
   "id": "904428af",
   "metadata": {},
   "outputs": [
    {
     "name": "stdout",
     "output_type": "stream",
     "text": [
      "Is cherry small: True\n",
      "Is cherry green: False\n",
      "Is pea small: True\n",
      "Is pea green: True\n",
      "Is watermelon small: False\n",
      "Is watermelon green: True\n",
      "Is pumpkin small: False\n",
      "Is pumpkin green: False\n"
     ]
    }
   ],
   "source": [
    "for i in foods:\n",
    "    if i in small:\n",
    "        print(f'Is {i} small: True')\n",
    "    else:\n",
    "        print(f'Is {i} small: False')\n",
    "        \n",
    "    if i in green:\n",
    "        print(f'Is {i} green: True')\n",
    "    else:\n",
    "        print(f'Is {i} green: False')"
   ]
  },
  {
   "cell_type": "code",
   "execution_count": null,
   "id": "f3da9e1e",
   "metadata": {},
   "outputs": [],
   "source": []
  }
 ],
 "metadata": {
  "kernelspec": {
   "display_name": "Python 3 (ipykernel)",
   "language": "python",
   "name": "python3"
  },
  "language_info": {
   "codemirror_mode": {
    "name": "ipython",
    "version": 3
   },
   "file_extension": ".py",
   "mimetype": "text/x-python",
   "name": "python",
   "nbconvert_exporter": "python",
   "pygments_lexer": "ipython3",
   "version": "3.10.9"
  }
 },
 "nbformat": 4,
 "nbformat_minor": 5
}
