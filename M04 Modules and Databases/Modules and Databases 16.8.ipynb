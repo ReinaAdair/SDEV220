{
 "cells": [
  {
   "cell_type": "code",
   "execution_count": 5,
   "id": "f06e916a",
   "metadata": {},
   "outputs": [],
   "source": [
    "import sqlalchemy as db"
   ]
  },
  {
   "cell_type": "code",
   "execution_count": 13,
   "id": "b2c8e50f",
   "metadata": {},
   "outputs": [],
   "source": [
    "engine = db.create_engine('sqlite:///books.db')"
   ]
  },
  {
   "cell_type": "code",
   "execution_count": 14,
   "id": "28dde467",
   "metadata": {},
   "outputs": [],
   "source": [
    "conn = engine.connect()"
   ]
  },
  {
   "cell_type": "code",
   "execution_count": 15,
   "id": "3111294c",
   "metadata": {},
   "outputs": [],
   "source": [
    "meta = db.MetaData()"
   ]
  },
  {
   "cell_type": "code",
   "execution_count": 16,
   "id": "b5138e2d",
   "metadata": {},
   "outputs": [],
   "source": [
    "books = db.Table('books', meta, autoload=True, autoload_with=engine)"
   ]
  },
  {
   "cell_type": "code",
   "execution_count": 35,
   "id": "d6663909",
   "metadata": {},
   "outputs": [
    {
     "name": "stdout",
     "output_type": "stream",
     "text": [
      "SELECT books.author \n",
      "FROM books\n"
     ]
    }
   ],
   "source": [
    "print(db.select(books.c.author))"
   ]
  },
  {
   "cell_type": "code",
   "execution_count": 52,
   "id": "43a48452",
   "metadata": {},
   "outputs": [],
   "source": [
    "ordered = db.select(books.c.author).order_by(books.c.author)"
   ]
  },
  {
   "cell_type": "code",
   "execution_count": 53,
   "id": "5ccdd706",
   "metadata": {},
   "outputs": [],
   "source": [
    "authors = conn.execute(ordered)"
   ]
  },
  {
   "cell_type": "code",
   "execution_count": 54,
   "id": "6e6fdceb",
   "metadata": {},
   "outputs": [
    {
     "data": {
      "text/plain": [
       "[('Alan Garner',),\n",
       " ('China Mievelle',),\n",
       " ('Lisa Lutz',),\n",
       " ('Terry Pratchet',),\n",
       " ('Terry Pratchett',)]"
      ]
     },
     "execution_count": 54,
     "metadata": {},
     "output_type": "execute_result"
    }
   ],
   "source": [
    "authors.fetchall()"
   ]
  },
  {
   "cell_type": "code",
   "execution_count": null,
   "id": "5ec25ed2",
   "metadata": {},
   "outputs": [],
   "source": []
  }
 ],
 "metadata": {
  "kernelspec": {
   "display_name": "Python 3 (ipykernel)",
   "language": "python",
   "name": "python3"
  },
  "language_info": {
   "codemirror_mode": {
    "name": "ipython",
    "version": 3
   },
   "file_extension": ".py",
   "mimetype": "text/x-python",
   "name": "python",
   "nbconvert_exporter": "python",
   "pygments_lexer": "ipython3",
   "version": "3.10.9"
  }
 },
 "nbformat": 4,
 "nbformat_minor": 5
}
