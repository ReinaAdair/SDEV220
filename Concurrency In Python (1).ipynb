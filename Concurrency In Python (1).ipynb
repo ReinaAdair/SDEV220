{
 "cells": [
  {
   "cell_type": "code",
   "execution_count": 1,
   "id": "906c4ec1",
   "metadata": {},
   "outputs": [],
   "source": [
    "from datetime import date, datetime, timedelta"
   ]
  },
  {
   "cell_type": "code",
   "execution_count": 3,
   "id": "5e069ad1",
   "metadata": {},
   "outputs": [
    {
     "name": "stdout",
     "output_type": "stream",
     "text": [
      "2023-07-12\n"
     ]
    }
   ],
   "source": [
    "with open(\"today.txt\") as f:\n",
    "    td = f.readlines()\n",
    "print(td[0])"
   ]
  },
  {
   "cell_type": "code",
   "execution_count": 4,
   "id": "424e4cc2",
   "metadata": {},
   "outputs": [],
   "source": [
    "today_string = td[0]"
   ]
  },
  {
   "cell_type": "code",
   "execution_count": 6,
   "id": "68a421d3",
   "metadata": {},
   "outputs": [],
   "source": [
    "today = datetime.strptime(today_string, \"%Y-%m-%d\").date()"
   ]
  },
  {
   "cell_type": "code",
   "execution_count": 7,
   "id": "bef803c8",
   "metadata": {},
   "outputs": [
    {
     "name": "stdout",
     "output_type": "stream",
     "text": [
      "2023-07-12\n"
     ]
    }
   ],
   "source": [
    "print(today)"
   ]
  },
  {
   "cell_type": "code",
   "execution_count": 8,
   "id": "9a51bc2b",
   "metadata": {},
   "outputs": [],
   "source": [
    "today2 = date.today()"
   ]
  },
  {
   "cell_type": "code",
   "execution_count": 9,
   "id": "eaf12974",
   "metadata": {},
   "outputs": [
    {
     "name": "stdout",
     "output_type": "stream",
     "text": [
      "2023-07-12\n"
     ]
    }
   ],
   "source": [
    "print(today2)"
   ]
  },
  {
   "cell_type": "code",
   "execution_count": 35,
   "id": "a42c2b5d",
   "metadata": {},
   "outputs": [],
   "source": [
    "import time\n",
    "import random"
   ]
  },
  {
   "cell_type": "code",
   "execution_count": 11,
   "id": "fe7ab16e",
   "metadata": {},
   "outputs": [],
   "source": [
    "import multiprocessing as mp"
   ]
  },
  {
   "cell_type": "code",
   "execution_count": 42,
   "id": "75f6dc8f",
   "metadata": {},
   "outputs": [],
   "source": [
    "def loading(assets, output):\n",
    "    for asset in assets:\n",
    "        t = time.localtime()\n",
    "        current_time = time.strftime(\"%H:%M:%S\", t)\n",
    "        \n",
    "        print(\"Loading\", asset, \"-\", datetime.now().time())\n",
    "        time.sleep(random.randrange(1))\n",
    "        output.put(asset)"
   ]
  },
  {
   "cell_type": "code",
   "execution_count": 15,
   "id": "51f22a4a",
   "metadata": {},
   "outputs": [],
   "source": [
    "queue = mp.JoinableQueue()\n",
    "assets = ['Textures', 'Audio', 'Incomprehensible Horrors']"
   ]
  },
  {
   "cell_type": "code",
   "execution_count": 43,
   "id": "1866026a",
   "metadata": {},
   "outputs": [
    {
     "name": "stdout",
     "output_type": "stream",
     "text": [
      "Loading Textures - 12:13:54.839907\n",
      "Loading Audio - 12:13:54.839907\n",
      "Loading Incomprehensible Horrors - 12:13:54.839907\n"
     ]
    }
   ],
   "source": [
    "loading(assets, queue)"
   ]
  },
  {
   "cell_type": "code",
   "execution_count": null,
   "id": "ebd9c055",
   "metadata": {},
   "outputs": [],
   "source": []
  }
 ],
 "metadata": {
  "kernelspec": {
   "display_name": "Python 3 (ipykernel)",
   "language": "python",
   "name": "python3"
  },
  "language_info": {
   "codemirror_mode": {
    "name": "ipython",
    "version": 3
   },
   "file_extension": ".py",
   "mimetype": "text/x-python",
   "name": "python",
   "nbconvert_exporter": "python",
   "pygments_lexer": "ipython3",
   "version": "3.10.9"
  }
 },
 "nbformat": 4,
 "nbformat_minor": 5
}
