{
 "cells": [
  {
   "cell_type": "code",
   "execution_count": 1,
   "id": "b972347e",
   "metadata": {},
   "outputs": [],
   "source": [
    "def good():\n",
    "    return ['Harry', 'Ron', 'Hermione']\n"
   ]
  },
  {
   "cell_type": "code",
   "execution_count": 12,
   "id": "5d270832",
   "metadata": {},
   "outputs": [],
   "source": [
    "def get_odds():\n",
    "    oddslist = []\n",
    "    for i in range(10):\n",
    "        if i % 2 == 0:\n",
    "            continue\n",
    "        else:\n",
    "            oddslist.append(i)\n",
    "    return oddslist"
   ]
  },
  {
   "cell_type": "code",
   "execution_count": 13,
   "id": "a7ee0ffa",
   "metadata": {},
   "outputs": [
    {
     "name": "stdout",
     "output_type": "stream",
     "text": [
      "[1, 3, 5, 7, 9]\n"
     ]
    }
   ],
   "source": [
    "var = get_odds()\n",
    "print(var)"
   ]
  },
  {
   "cell_type": "code",
   "execution_count": null,
   "id": "0a768b24",
   "metadata": {},
   "outputs": [],
   "source": []
  }
 ],
 "metadata": {
  "kernelspec": {
   "display_name": "Python 3 (ipykernel)",
   "language": "python",
   "name": "python3"
  },
  "language_info": {
   "codemirror_mode": {
    "name": "ipython",
    "version": 3
   },
   "file_extension": ".py",
   "mimetype": "text/x-python",
   "name": "python",
   "nbconvert_exporter": "python",
   "pygments_lexer": "ipython3",
   "version": "3.10.9"
  }
 },
 "nbformat": 4,
 "nbformat_minor": 5
}
